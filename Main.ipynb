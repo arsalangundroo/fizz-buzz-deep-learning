{
 "cells": [
  {
   "cell_type": "code",
   "execution_count": 1,
   "metadata": {},
   "outputs": [
    {
     "name": "stderr",
     "output_type": "stream",
     "text": [
      "/anaconda3/lib/python3.6/site-packages/h5py/__init__.py:36: FutureWarning: Conversion of the second argument of issubdtype from `float` to `np.floating` is deprecated. In future, it will be treated as `np.float64 == np.dtype(float).type`.\n",
      "  from ._conv import register_converters as _register_converters\n",
      "Using TensorFlow backend.\n"
     ]
    }
   ],
   "source": [
    "# This cell imports all the dependencies that we require.\n",
    "import numpy as np\n",
    "import tensorflow as tf\n",
    "from tqdm import tqdm_notebook\n",
    "import pandas as pd\n",
    "from keras.utils import np_utils\n",
    "%matplotlib inline\n",
    "import matplotlib.pyplot as plt\n",
    "from sklearn.metrics import confusion_matrix"
   ]
  },
  {
   "cell_type": "code",
   "execution_count": 2,
   "metadata": {},
   "outputs": [],
   "source": [
    "# This is the conventional python function for fizzbuzz generation.\n",
    "def fizzbuzz(n):\n",
    "    \n",
    "    # Logic Explanation\n",
    "    if n % 3 == 0 and n % 5 == 0:\n",
    "        return 'FizzBuzz'\n",
    "    elif n % 3 == 0:\n",
    "        return 'Fizz'\n",
    "    elif n % 5 == 0:\n",
    "        return 'Buzz'\n",
    "    else:\n",
    "        return 'Other'"
   ]
  },
  {
   "cell_type": "code",
   "execution_count": 3,
   "metadata": {},
   "outputs": [],
   "source": [
    "'''Summary:\n",
    "    This function creates the input data, generates the labels for the same, and then saves that data in a CSV file\n",
    "    so that it can later be used as training or test data, depending on what we want it to generate.\n",
    "''' \n",
    "def createInputCSV(start,end,filename):\n",
    "    \n",
    "    # Why list in Python?\n",
    "    ''' Beacuse python lists are open ended which helps in appending data to it dynamically \n",
    "    and also maintains indexes which facilitates conversion to pandas series or dataframe object later'''\n",
    "    inputData   = [] \n",
    "    outputData  = []\n",
    "    \n",
    "    # Why do we need training Data?\n",
    "    '''Because a machine learning model needs data to learn from and to recognize patterns from that. Once those patterns are\n",
    "     learned by the model and gets tuned/optimized accordingly, it can then make predictions on unseen data.'''\n",
    "    for i in range(start,end):\n",
    "        inputData.append(i)\n",
    "        outputData.append(fizzbuzz(i))\n",
    "    \n",
    "    # Why Dataframe?\n",
    "    '''A Dataframe represents data in a tabular form and has an inbuilt .csv function that facilitates creation \n",
    "    of labelled data in csv format.'''\n",
    "    dataset = {}\n",
    "    dataset[\"input\"]  = inputData\n",
    "    dataset[\"label\"] = outputData\n",
    "    \n",
    "    # Writing to csv\n",
    "    pd.DataFrame(dataset).to_csv(filename)\n",
    "    \n",
    "    print(filename, \"Created!\")"
   ]
  },
  {
   "cell_type": "code",
   "execution_count": 4,
   "metadata": {},
   "outputs": [],
   "source": [
    "def processData(dataset):\n",
    "    \n",
    "    # Why do we have to process?\n",
    "    '''Because we need to convert data into a format from which our model can depict patterns and learn. Similarly, \n",
    "    we convert the class labels as digits which enables us to use one-hot encoding that helps in calculation of loss functin and accuracy later'''\n",
    "    \n",
    "    data   = dataset['input'].values\n",
    "    labels = dataset['label'].values\n",
    "    \n",
    "    processedData  = encodeData(data)\n",
    "    processedLabel = encodeLabel(labels)\n",
    "    \n",
    "    return processedData, processedLabel"
   ]
  },
  {
   "cell_type": "code",
   "execution_count": 5,
   "metadata": {},
   "outputs": [],
   "source": [
    "def encodeData(data):\n",
    "    \n",
    "    processedData = []\n",
    "    \n",
    "    for dataInstance in data:\n",
    "        \n",
    "        # Why do we have number 10?\n",
    "        '''Because we are converting the decimal number into a 10 digit binary number as 10 digits are sufficient to represent all \n",
    "        decimal numbers <= 1000'''\n",
    "        processedData.append([dataInstance >> d & 1 for d in range(10)])\n",
    "    \n",
    "    return np.array(processedData)"
   ]
  },
  {
   "cell_type": "code",
   "execution_count": 6,
   "metadata": {},
   "outputs": [],
   "source": [
    "def encodeLabel(labels):\n",
    "    \n",
    "    processedLabel = []\n",
    "    \n",
    "    for labelInstance in labels:\n",
    "        if(labelInstance == \"FizzBuzz\"):\n",
    "            # Fizzbuzz\n",
    "            processedLabel.append([3])\n",
    "        elif(labelInstance == \"Fizz\"):\n",
    "            # Fizz\n",
    "            processedLabel.append([1])\n",
    "        elif(labelInstance == \"Buzz\"):\n",
    "            # Buzz\n",
    "            processedLabel.append([2])\n",
    "        else:\n",
    "            # Other\n",
    "            processedLabel.append([0])\n",
    "\n",
    "    return np_utils.to_categorical(np.array(processedLabel),4)"
   ]
  },
  {
   "cell_type": "code",
   "execution_count": 7,
   "metadata": {},
   "outputs": [
    {
     "name": "stdout",
     "output_type": "stream",
     "text": [
      "training.csv Created!\n",
      "testing.csv Created!\n"
     ]
    }
   ],
   "source": [
    "# Create datafiles\n",
    "createInputCSV(101,1001,'training.csv')\n",
    "createInputCSV(1,101,'testing.csv')"
   ]
  },
  {
   "cell_type": "code",
   "execution_count": 8,
   "metadata": {},
   "outputs": [],
   "source": [
    "# Read Dataset\n",
    "trainingData = pd.read_csv('training.csv')\n",
    "testingData  = pd.read_csv('testing.csv')\n",
    "\n",
    "# Process Dataset\n",
    "processedTrainingData, processedTrainingLabel = processData(trainingData)\n",
    "processedTestingData, processedTestingLabel   = processData(testingData)"
   ]
  },
  {
   "cell_type": "markdown",
   "metadata": {},
   "source": [
    "## GRAPH BUILDING"
   ]
  },
  {
   "cell_type": "markdown",
   "metadata": {},
   "source": [
    "##### A detailed explaination of graph building is provided in the cell that defines the graph2 (which is our most accurate model)"
   ]
  },
  {
   "cell_type": "code",
   "execution_count": 9,
   "metadata": {},
   "outputs": [],
   "source": [
    "# Build graph\n",
    "NUM_HIDDEN_NEURONS_LAYER_1 = 100\n",
    "LEARNING_RATE = 0.05\n",
    "\n",
    "# Initializing the weights to Normal Distribution\n",
    "#def init_weights(shape):\n",
    " #   return tf.Variable(tf.random_normal(shape,stddev=0.01))\n",
    "\n",
    "\n",
    "graph = tf.Graph()\n",
    "with graph.as_default():\n",
    "    '''tf_train_dataset = tf.placeholder(tf.float32,shape = X_train.shape)\n",
    "    tf_train_labels = tf.placeholder(tf.float32,shape = train_labels.shape)\n",
    "    '''\n",
    "    inputTensor  = tf.placeholder(tf.float32, [None, 10])\n",
    "    outputTensor = tf.placeholder(tf.float32, [None, 4])\n",
    "    #tf_validation_dataset = tf.constant(X_cv,dtype=tf.float32)\n",
    "    #tf_validation_labels = tf.constant(cv_labels,dtype=tf.float32)\n",
    "    #regularization_param = tf.placeholder(tf.float32)\n",
    "    \n",
    "    hidden_layer1_weights = tf.Variable(tf.random_normal([10,NUM_HIDDEN_NEURONS_LAYER_1],stddev=0.01))\n",
    "    hidden_layer1_biases = tf.Variable(tf.zeros(NUM_HIDDEN_NEURONS_LAYER_1))\n",
    "    \n",
    "    output_layer_weights = tf.Variable(tf.random_normal([NUM_HIDDEN_NEURONS_LAYER_1,4],stddev=0.01))\n",
    "    output_layer_biases = tf.Variable(tf.zeros(4))\n",
    "    \n",
    "    hidden_layer1_values = tf.nn.relu(tf.matmul(inputTensor,hidden_layer1_weights)+hidden_layer1_biases)\n",
    "    logits = tf.matmul(hidden_layer1_values,output_layer_weights)+output_layer_biases\n",
    "    \n",
    "    loss = tf.reduce_mean(tf.nn.softmax_cross_entropy_with_logits_v2(logits=logits,labels=outputTensor))\n",
    "    training = tf.train.GradientDescentOptimizer(LEARNING_RATE).minimize(loss)\n",
    "    \n",
    "    prediction = tf.argmax(tf.nn.softmax(logits),1)\n",
    "\n",
    "\n",
    "\n"
   ]
  },
  {
   "cell_type": "code",
   "execution_count": 10,
   "metadata": {},
   "outputs": [],
   "source": [
    "# Build graph\n",
    "NUM_HIDDEN_NEURONS_LAYER_1 = 300\n",
    "LEARNING_RATE = 0.05\n",
    "\n",
    "# Initializing the weights to Normal Distribution\n",
    "#def init_weights(shape):\n",
    " #   return tf.Variable(tf.random_normal(shape,stddev=0.01))\n",
    "\n",
    "\n",
    "graph1 = tf.Graph()\n",
    "with graph1.as_default():\n",
    "    '''tf_train_dataset = tf.placeholder(tf.float32,shape = X_train.shape)\n",
    "    tf_train_labels = tf.placeholder(tf.float32,shape = train_labels.shape)\n",
    "    '''\n",
    "    inputTensor  = tf.placeholder(tf.float32, [None, 10])\n",
    "    outputTensor = tf.placeholder(tf.float32, [None, 4])\n",
    "    #tf_validation_dataset = tf.constant(X_cv,dtype=tf.float32)\n",
    "    #tf_validation_labels = tf.constant(cv_labels,dtype=tf.float32)\n",
    "    #regularization_param = tf.placeholder(tf.float32)\n",
    "    \n",
    "    hidden_layer1_weights = tf.Variable(tf.random_normal([10,NUM_HIDDEN_NEURONS_LAYER_1],stddev=0.01))\n",
    "    hidden_layer1_biases = tf.Variable(tf.zeros(NUM_HIDDEN_NEURONS_LAYER_1))\n",
    "    \n",
    "    output_layer_weights = tf.Variable(tf.random_normal([NUM_HIDDEN_NEURONS_LAYER_1,4],stddev=0.01))\n",
    "    output_layer_biases = tf.Variable(tf.zeros(4))\n",
    "    \n",
    "    hidden_layer1_values = tf.nn.relu(tf.matmul(inputTensor,hidden_layer1_weights)+hidden_layer1_biases)\n",
    "    logits = tf.matmul(hidden_layer1_values,output_layer_weights)+output_layer_biases\n",
    "    \n",
    "    loss = tf.reduce_mean(tf.nn.softmax_cross_entropy_with_logits_v2(logits=logits,labels=outputTensor))\n",
    "    training = tf.train.GradientDescentOptimizer(LEARNING_RATE).minimize(loss)\n",
    "    \n",
    "    prediction = tf.argmax(tf.nn.softmax(logits),1)\n",
    "\n",
    "    #validation_layer1 = tf.nn.relu(tf.matmul(tf_validation_dataset,hidden_layer1_weights)+hidden_layer1_biases)\n",
    "    #validation_prediction = tf.argmax(tf.nn.softmax(tf.matmul(validation_layer1,output_layer_weights)+output_layer_biases))\n",
    "\n",
    "\n"
   ]
  },
  {
   "cell_type": "code",
   "execution_count": 11,
   "metadata": {},
   "outputs": [],
   "source": [
    "# Build graph\n",
    "NUM_HIDDEN_NEURONS_LAYER_1 = 300\n",
    "NUM_HIDDEN_NEURONS_LAYER_2 = 300\n",
    "LEARNING_RATE = 0.05\n",
    "\n",
    "graph2 = tf.Graph()    # Instantiate a graph instance.\n",
    "with graph2.as_default():  # Makes graph2 as the default graph.\n",
    "    '''\n",
    "    we initialize input and output tensors as placeholders. A placeholder initialization just reserves\n",
    "    the memory space as per the data type and shape of data, whose actual values will be provided later via feed dictionary.\n",
    "    This enables us to supply different data sets or data batches for training or testing at runtime.\n",
    "    '''\n",
    "    inputTensor  = tf.placeholder(tf.float32, [None, 10])\n",
    "    outputTensor = tf.placeholder(tf.float32, [None, 4])\n",
    "    \n",
    "    ''' We use the tf.variable to create variable tensors(tensors whose values can be changed) to store weights \n",
    "    because the value of weights need to be updated by the optimizer during training'''\n",
    "    \n",
    "    # Below, we initialize the weights of first hidden layer to a 10x300 matrix of random values from a normal distribution with standard deviation of 0.01.  \n",
    "    hidden_layer1_weights = tf.Variable(tf.random_normal([10,NUM_HIDDEN_NEURONS_LAYER_1],stddev=0.01))\n",
    "    # We also initialize the bias units for hidden layer to a zero vector(tensor) whose length is equal the number of nodes in that layer\n",
    "    hidden_layer1_biases = tf.Variable(tf.zeros(NUM_HIDDEN_NEURONS_LAYER_1))\n",
    "    \n",
    "    # Here we initialize the weights of second hidden layer to a 300x300 matrix of random values from a normal distribution with standard deviation of 0.01.  \n",
    "    hidden_layer2_weights = tf.Variable(tf.random_normal([NUM_HIDDEN_NEURONS_LAYER_1,NUM_HIDDEN_NEURONS_LAYER_2],stddev=0.01))\n",
    "    hidden_layer2_biases = tf.Variable(tf.zeros(NUM_HIDDEN_NEURONS_LAYER_2))\n",
    "    \n",
    "    # Here we initialize the weights of the output layer to a 300x4 matrix of random values from a normal distribution with standard deviation of 0.01.  \n",
    "    output_layer_weights = tf.Variable(tf.random_normal([NUM_HIDDEN_NEURONS_LAYER_2,4],stddev=0.01))\n",
    "    output_layer_biases = tf.Variable(tf.zeros(4))\n",
    "     \n",
    "    ''' We use the relu as activation functin for each layer. For any input value x,relu produces a value max(0,x).\n",
    "        Each hidden layer node computes the RELU of matrix multiplication of weights and the corresponding input from the previous layers, \n",
    "        as we build a fully connected neural network. The values thus produced act as inputs for the next layer.\n",
    "    '''\n",
    "    hidden_layer1_values = tf.nn.relu(tf.matmul(inputTensor,hidden_layer1_weights)+hidden_layer1_biases)\n",
    "    hidden_layer2_values = tf.nn.relu(tf.matmul(hidden_layer1_values,hidden_layer2_weights)+hidden_layer2_biases)\n",
    "    logits = tf.matmul(hidden_layer2_values,output_layer_weights)+output_layer_biases\n",
    "    # Logits are the values that are produced by the output nodes. \n",
    "    # After applying softmax function on them, they produce probabilities which determine the class to which that input data belongs. The selected class is the one with highest probability  \n",
    "    # The loss function determines the error between the predicted value and the actual value, using the cross entropy function in this case.\n",
    "    loss = tf.reduce_mean(tf.nn.softmax_cross_entropy_with_logits_v2(logits=logits,labels=outputTensor))\n",
    "    # In order to train the model, we run the optimizer(gradient descent in this case with a learning rate of 0.5).\n",
    "    # By training, we mean that the optimizer updates the values of weights and biases for every layer till the most optimal values are reached. \n",
    "    training = tf.train.GradientDescentOptimizer(LEARNING_RATE).minimize(loss)\n",
    "    \n",
    "    # this function chooses the class by choosing the index of the class for which the softmax yields the highest probability.\n",
    "    prediction = tf.argmax(tf.nn.softmax(logits),1)\n",
    "\n",
    "    \n",
    "\n"
   ]
  },
  {
   "cell_type": "markdown",
   "metadata": {},
   "source": [
    "### Choosing different optimization methods."
   ]
  },
  {
   "cell_type": "code",
   "execution_count": 12,
   "metadata": {},
   "outputs": [],
   "source": [
    "# Build graph\n",
    "NUM_HIDDEN_NEURONS_LAYER_1 = 100\n",
    "LEARNING_RATE = 0.05\n",
    "\n",
    "# Initializing the weights to Normal Distribution\n",
    "#def init_weights(shape):\n",
    " #   return tf.Variable(tf.random_normal(shape,stddev=0.01))\n",
    "\n",
    "\n",
    "graph_adagrad = tf.Graph()\n",
    "with graph_adagrad.as_default():\n",
    "    '''tf_train_dataset = tf.placeholder(tf.float32,shape = X_train.shape)\n",
    "    tf_train_labels = tf.placeholder(tf.float32,shape = train_labels.shape)\n",
    "    '''\n",
    "    inputTensor  = tf.placeholder(tf.float32, [None, 10])\n",
    "    outputTensor = tf.placeholder(tf.float32, [None, 4])\n",
    "    #tf_validation_dataset = tf.constant(X_cv,dtype=tf.float32)\n",
    "    #tf_validation_labels = tf.constant(cv_labels,dtype=tf.float32)\n",
    "    #regularization_param = tf.placeholder(tf.float32)\n",
    "    \n",
    "    hidden_layer1_weights = tf.Variable(tf.random_normal([10,NUM_HIDDEN_NEURONS_LAYER_1],stddev=0.01))\n",
    "    hidden_layer1_biases = tf.Variable(tf.zeros(NUM_HIDDEN_NEURONS_LAYER_1))\n",
    "    \n",
    "    output_layer_weights = tf.Variable(tf.random_normal([NUM_HIDDEN_NEURONS_LAYER_1,4],stddev=0.01))\n",
    "    output_layer_biases = tf.Variable(tf.zeros(4))\n",
    "    \n",
    "    hidden_layer1_values = tf.nn.relu(tf.matmul(inputTensor,hidden_layer1_weights)+hidden_layer1_biases)\n",
    "    logits = tf.matmul(hidden_layer1_values,output_layer_weights)+output_layer_biases\n",
    "    \n",
    "    loss = tf.reduce_mean(tf.nn.softmax_cross_entropy_with_logits_v2(logits=logits,labels=outputTensor))\n",
    "    training = tf.train.AdagradOptimizer(LEARNING_RATE).minimize(loss)\n",
    "    \n",
    "    prediction = tf.argmax(tf.nn.softmax(logits),1)"
   ]
  },
  {
   "cell_type": "code",
   "execution_count": 13,
   "metadata": {},
   "outputs": [],
   "source": [
    "# Build graph\n",
    "NUM_HIDDEN_NEURONS_LAYER_1 = 100\n",
    "LEARNING_RATE = 0.05\n",
    "\n",
    "# Initializing the weights to Normal Distribution\n",
    "#def init_weights(shape):\n",
    " #   return tf.Variable(tf.random_normal(shape,stddev=0.01))\n",
    "\n",
    "\n",
    "graph_adam = tf.Graph()\n",
    "with graph_adam.as_default():\n",
    "    '''tf_train_dataset = tf.placeholder(tf.float32,shape = X_train.shape)\n",
    "    tf_train_labels = tf.placeholder(tf.float32,shape = train_labels.shape)\n",
    "    '''\n",
    "    inputTensor  = tf.placeholder(tf.float32, [None, 10])\n",
    "    outputTensor = tf.placeholder(tf.float32, [None, 4])\n",
    "    #tf_validation_dataset = tf.constant(X_cv,dtype=tf.float32)\n",
    "    #tf_validation_labels = tf.constant(cv_labels,dtype=tf.float32)\n",
    "    #regularization_param = tf.placeholder(tf.float32)\n",
    "    \n",
    "    hidden_layer1_weights = tf.Variable(tf.random_normal([10,NUM_HIDDEN_NEURONS_LAYER_1],stddev=0.01))\n",
    "    hidden_layer1_biases = tf.Variable(tf.zeros(NUM_HIDDEN_NEURONS_LAYER_1))\n",
    "    \n",
    "    output_layer_weights = tf.Variable(tf.random_normal([NUM_HIDDEN_NEURONS_LAYER_1,4],stddev=0.01))\n",
    "    output_layer_biases = tf.Variable(tf.zeros(4))\n",
    "    \n",
    "    hidden_layer1_values = tf.nn.relu(tf.matmul(inputTensor,hidden_layer1_weights)+hidden_layer1_biases)\n",
    "    logits = tf.matmul(hidden_layer1_values,output_layer_weights)+output_layer_biases\n",
    "    \n",
    "    loss = tf.reduce_mean(tf.nn.softmax_cross_entropy_with_logits_v2(logits=logits,labels=outputTensor))\n",
    "    training = tf.train.AdamOptimizer(LEARNING_RATE).minimize(loss)\n",
    "    \n",
    "    prediction = tf.argmax(tf.nn.softmax(logits),1)"
   ]
  },
  {
   "cell_type": "code",
   "execution_count": 14,
   "metadata": {},
   "outputs": [],
   "source": [
    "# Build graph\n",
    "NUM_HIDDEN_NEURONS_LAYER_1 = 100\n",
    "LEARNING_RATE = 0.05\n",
    "\n",
    "# Initializing the weights to Normal Distribution\n",
    "#def init_weights(shape):\n",
    " #   return tf.Variable(tf.random_normal(shape,stddev=0.01))\n",
    "\n",
    "\n",
    "graph_adadelta = tf.Graph()\n",
    "with graph_adadelta.as_default():\n",
    "    '''tf_train_dataset = tf.placeholder(tf.float32,shape = X_train.shape)\n",
    "    tf_train_labels = tf.placeholder(tf.float32,shape = train_labels.shape)\n",
    "    '''\n",
    "    inputTensor  = tf.placeholder(tf.float32, [None, 10])\n",
    "    outputTensor = tf.placeholder(tf.float32, [None, 4])\n",
    "    #tf_validation_dataset = tf.constant(X_cv,dtype=tf.float32)\n",
    "    #tf_validation_labels = tf.constant(cv_labels,dtype=tf.float32)\n",
    "    #regularization_param = tf.placeholder(tf.float32)\n",
    "    \n",
    "    hidden_layer1_weights = tf.Variable(tf.random_normal([10,NUM_HIDDEN_NEURONS_LAYER_1],stddev=0.01))\n",
    "    hidden_layer1_biases = tf.Variable(tf.zeros(NUM_HIDDEN_NEURONS_LAYER_1))\n",
    "    \n",
    "    output_layer_weights = tf.Variable(tf.random_normal([NUM_HIDDEN_NEURONS_LAYER_1,4],stddev=0.01))\n",
    "    output_layer_biases = tf.Variable(tf.zeros(4))\n",
    "    \n",
    "    hidden_layer1_values = tf.nn.relu(tf.matmul(inputTensor,hidden_layer1_weights)+hidden_layer1_biases)\n",
    "    logits = tf.matmul(hidden_layer1_values,output_layer_weights)+output_layer_biases\n",
    "    \n",
    "    loss = tf.reduce_mean(tf.nn.softmax_cross_entropy_with_logits_v2(logits=logits,labels=outputTensor))\n",
    "    training = tf.train.AdadeltaOptimizer(LEARNING_RATE).minimize(loss)\n",
    "    \n",
    "    prediction = tf.argmax(tf.nn.softmax(logits),1)"
   ]
  },
  {
   "cell_type": "code",
   "execution_count": 15,
   "metadata": {},
   "outputs": [],
   "source": [
    "# Build graph\n",
    "NUM_HIDDEN_NEURONS_LAYER_1 = 100\n",
    "LEARNING_RATE = 0.05\n",
    "\n",
    "# Initializing the weights to Normal Distribution\n",
    "#def init_weights(shape):\n",
    " #   return tf.Variable(tf.random_normal(shape,stddev=0.01))\n",
    "\n",
    "\n",
    "graph_rmsprop = tf.Graph()\n",
    "with graph_rmsprop.as_default():\n",
    "    '''tf_train_dataset = tf.placeholder(tf.float32,shape = X_train.shape)\n",
    "    tf_train_labels = tf.placeholder(tf.float32,shape = train_labels.shape)\n",
    "    '''\n",
    "    inputTensor  = tf.placeholder(tf.float32, [None, 10])\n",
    "    outputTensor = tf.placeholder(tf.float32, [None, 4])\n",
    "    #tf_validation_dataset = tf.constant(X_cv,dtype=tf.float32)\n",
    "    #tf_validation_labels = tf.constant(cv_labels,dtype=tf.float32)\n",
    "    #regularization_param = tf.placeholder(tf.float32)\n",
    "    \n",
    "    hidden_layer1_weights = tf.Variable(tf.random_normal([10,NUM_HIDDEN_NEURONS_LAYER_1],stddev=0.01))\n",
    "    hidden_layer1_biases = tf.Variable(tf.zeros(NUM_HIDDEN_NEURONS_LAYER_1))\n",
    "    \n",
    "    output_layer_weights = tf.Variable(tf.random_normal([NUM_HIDDEN_NEURONS_LAYER_1,4],stddev=0.01))\n",
    "    output_layer_biases = tf.Variable(tf.zeros(4))\n",
    "    \n",
    "    hidden_layer1_values = tf.nn.relu(tf.matmul(inputTensor,hidden_layer1_weights)+hidden_layer1_biases)\n",
    "    logits = tf.matmul(hidden_layer1_values,output_layer_weights)+output_layer_biases\n",
    "    \n",
    "    loss = tf.reduce_mean(tf.nn.softmax_cross_entropy_with_logits_v2(logits=logits,labels=outputTensor))\n",
    "    training = tf.train.RMSPropOptimizer(LEARNING_RATE).minimize(loss)\n",
    "    \n",
    "    prediction = tf.argmax(tf.nn.softmax(logits),1)"
   ]
  },
  {
   "cell_type": "code",
   "execution_count": null,
   "metadata": {},
   "outputs": [],
   "source": []
  },
  {
   "cell_type": "markdown",
   "metadata": {},
   "source": [
    "### Choosing different Activation functions"
   ]
  },
  {
   "cell_type": "code",
   "execution_count": 16,
   "metadata": {},
   "outputs": [],
   "source": [
    "# Build graph\n",
    "NUM_HIDDEN_NEURONS_LAYER_1 = 100\n",
    "LEARNING_RATE = 0.05\n",
    "\n",
    "# Initializing the weights to Normal Distribution\n",
    "#def init_weights(shape):\n",
    " #   return tf.Variable(tf.random_normal(shape,stddev=0.01))\n",
    "\n",
    "\n",
    "graph_sigmoid = tf.Graph()\n",
    "with graph_sigmoid.as_default():\n",
    "    '''tf_train_dataset = tf.placeholder(tf.float32,shape = X_train.shape)\n",
    "    tf_train_labels = tf.placeholder(tf.float32,shape = train_labels.shape)\n",
    "    '''\n",
    "    inputTensor  = tf.placeholder(tf.float32, [None, 10])\n",
    "    outputTensor = tf.placeholder(tf.float32, [None, 4])\n",
    "    #tf_validation_dataset = tf.constant(X_cv,dtype=tf.float32)\n",
    "    #tf_validation_labels = tf.constant(cv_labels,dtype=tf.float32)\n",
    "    #regularization_param = tf.placeholder(tf.float32)\n",
    "    \n",
    "    hidden_layer1_weights = tf.Variable(tf.random_normal([10,NUM_HIDDEN_NEURONS_LAYER_1],stddev=0.01))\n",
    "    hidden_layer1_biases = tf.Variable(tf.zeros(NUM_HIDDEN_NEURONS_LAYER_1))\n",
    "    \n",
    "    output_layer_weights = tf.Variable(tf.random_normal([NUM_HIDDEN_NEURONS_LAYER_1,4],stddev=0.01))\n",
    "    output_layer_biases = tf.Variable(tf.zeros(4))\n",
    "    \n",
    "    hidden_layer1_values = tf.nn.sigmoid(tf.matmul(inputTensor,hidden_layer1_weights)+hidden_layer1_biases)\n",
    "    logits = tf.matmul(hidden_layer1_values,output_layer_weights)+output_layer_biases\n",
    "    \n",
    "    loss = tf.reduce_mean(tf.nn.softmax_cross_entropy_with_logits_v2(logits=logits,labels=outputTensor))\n",
    "    training = tf.train.GradientDescentOptimizer(LEARNING_RATE).minimize(loss)\n",
    "    \n",
    "    prediction = tf.argmax(tf.nn.softmax(logits),1)\n"
   ]
  },
  {
   "cell_type": "code",
   "execution_count": 17,
   "metadata": {},
   "outputs": [],
   "source": [
    "# Build graph\n",
    "NUM_HIDDEN_NEURONS_LAYER_1 = 100\n",
    "LEARNING_RATE = 0.05\n",
    "\n",
    "# Initializing the weights to Normal Distribution\n",
    "#def init_weights(shape):\n",
    " #   return tf.Variable(tf.random_normal(shape,stddev=0.01))\n",
    "\n",
    "\n",
    "graph_tanh = tf.Graph()\n",
    "with graph_tanh.as_default():\n",
    "    '''tf_train_dataset = tf.placeholder(tf.float32,shape = X_train.shape)\n",
    "    tf_train_labels = tf.placeholder(tf.float32,shape = train_labels.shape)\n",
    "    '''\n",
    "    inputTensor  = tf.placeholder(tf.float32, [None, 10])\n",
    "    outputTensor = tf.placeholder(tf.float32, [None, 4])\n",
    "    #tf_validation_dataset = tf.constant(X_cv,dtype=tf.float32)\n",
    "    #tf_validation_labels = tf.constant(cv_labels,dtype=tf.float32)\n",
    "    #regularization_param = tf.placeholder(tf.float32)\n",
    "    \n",
    "    hidden_layer1_weights = tf.Variable(tf.random_normal([10,NUM_HIDDEN_NEURONS_LAYER_1],stddev=0.01))\n",
    "    hidden_layer1_biases = tf.Variable(tf.zeros(NUM_HIDDEN_NEURONS_LAYER_1))\n",
    "    \n",
    "    output_layer_weights = tf.Variable(tf.random_normal([NUM_HIDDEN_NEURONS_LAYER_1,4],stddev=0.01))\n",
    "    output_layer_biases = tf.Variable(tf.zeros(4))\n",
    "    \n",
    "    hidden_layer1_values = tf.nn.tanh(tf.matmul(inputTensor,hidden_layer1_weights)+hidden_layer1_biases)\n",
    "    logits = tf.matmul(hidden_layer1_values,output_layer_weights)+output_layer_biases\n",
    "    \n",
    "    loss = tf.reduce_mean(tf.nn.softmax_cross_entropy_with_logits_v2(logits=logits,labels=outputTensor))\n",
    "    training = tf.train.GradientDescentOptimizer(LEARNING_RATE).minimize(loss)\n",
    "    \n",
    "    prediction = tf.argmax(tf.nn.softmax(logits),1)\n",
    "\n"
   ]
  },
  {
   "cell_type": "code",
   "execution_count": 18,
   "metadata": {},
   "outputs": [],
   "source": [
    "# Build graph\n",
    "NUM_HIDDEN_NEURONS_LAYER_1 = 100\n",
    "LEARNING_RATE = 0.05\n",
    "\n",
    "# Initializing the weights to Normal Distribution\n",
    "#def init_weights(shape):\n",
    " #   return tf.Variable(tf.random_normal(shape,stddev=0.01))\n",
    "\n",
    "\n",
    "graph_leaky_relu = tf.Graph()\n",
    "with graph_leaky_relu.as_default():\n",
    "    '''tf_train_dataset = tf.placeholder(tf.float32,shape = X_train.shape)\n",
    "    tf_train_labels = tf.placeholder(tf.float32,shape = train_labels.shape)\n",
    "    '''\n",
    "    inputTensor  = tf.placeholder(tf.float32, [None, 10])\n",
    "    outputTensor = tf.placeholder(tf.float32, [None, 4])\n",
    "    #tf_validation_dataset = tf.constant(X_cv,dtype=tf.float32)\n",
    "    #tf_validation_labels = tf.constant(cv_labels,dtype=tf.float32)\n",
    "    #regularization_param = tf.placeholder(tf.float32)\n",
    "    \n",
    "    hidden_layer1_weights = tf.Variable(tf.random_normal([10,NUM_HIDDEN_NEURONS_LAYER_1],stddev=0.01))\n",
    "    hidden_layer1_biases = tf.Variable(tf.zeros(NUM_HIDDEN_NEURONS_LAYER_1))\n",
    "    \n",
    "    output_layer_weights = tf.Variable(tf.random_normal([NUM_HIDDEN_NEURONS_LAYER_1,4],stddev=0.01))\n",
    "    output_layer_biases = tf.Variable(tf.zeros(4))\n",
    "    \n",
    "    hidden_layer1_values = tf.nn.leaky_relu(tf.matmul(inputTensor,hidden_layer1_weights)+hidden_layer1_biases)\n",
    "    logits = tf.matmul(hidden_layer1_values,output_layer_weights)+output_layer_biases\n",
    "    \n",
    "    loss = tf.reduce_mean(tf.nn.softmax_cross_entropy_with_logits_v2(logits=logits,labels=outputTensor))\n",
    "    training = tf.train.GradientDescentOptimizer(LEARNING_RATE).minimize(loss)\n",
    "    \n",
    "    prediction = tf.argmax(tf.nn.softmax(logits),1)\n",
    "\n"
   ]
  },
  {
   "cell_type": "markdown",
   "metadata": {},
   "source": [
    "### Adding Dropout"
   ]
  },
  {
   "cell_type": "code",
   "execution_count": 102,
   "metadata": {},
   "outputs": [],
   "source": [
    "# Build graph\n",
    "NUM_HIDDEN_NEURONS_LAYER_1 = 100\n",
    "LEARNING_RATE = 0.05\n",
    "\n",
    "# Initializing the weights to Normal Distribution\n",
    "#def init_weights(shape):\n",
    " #   return tf.Variable(tf.random_normal(shape,stddev=0.01))\n",
    "\n",
    "\n",
    "graph_drop = tf.Graph()\n",
    "with graph_drop.as_default():\n",
    "    '''tf_train_dataset = tf.placeholder(tf.float32,shape = X_train.shape)\n",
    "    tf_train_labels = tf.placeholder(tf.float32,shape = train_labels.shape)\n",
    "    '''\n",
    "    inputTensor  = tf.placeholder(tf.float32, [None, 10])\n",
    "    outputTensor = tf.placeholder(tf.float32, [None, 4])\n",
    "    #tf_validation_dataset = tf.constant(X_cv,dtype=tf.float32)\n",
    "    #tf_validation_labels = tf.constant(cv_labels,dtype=tf.float32)\n",
    "    #regularization_param = tf.placeholder(tf.float32)\n",
    "    \n",
    "    hidden_layer1_weights = tf.Variable(tf.random_normal([10,NUM_HIDDEN_NEURONS_LAYER_1],stddev=0.01))\n",
    "    hidden_layer1_biases = tf.Variable(tf.zeros(NUM_HIDDEN_NEURONS_LAYER_1))\n",
    "    \n",
    "    output_layer_weights = tf.Variable(tf.random_normal([NUM_HIDDEN_NEURONS_LAYER_1,4],stddev=0.01))\n",
    "    output_layer_biases = tf.Variable(tf.zeros(4))\n",
    "    \n",
    "    hidden_layer1_values = tf.nn.relu(tf.matmul(inputTensor,hidden_layer1_weights)+hidden_layer1_biases)\n",
    "    drop1 = tf.nn.dropout(hidden_layer1_values,0.5)\n",
    "    logits = tf.matmul(hidden_layer1_values,output_layer_weights)+output_layer_biases\n",
    "    \n",
    "    loss = tf.reduce_mean(tf.nn.softmax_cross_entropy_with_logits_v2(logits=logits,labels=outputTensor))\n",
    "    training = tf.train.GradientDescentOptimizer(LEARNING_RATE).minimize(loss)\n",
    "    \n",
    "    prediction = tf.argmax(tf.nn.softmax(logits),1)\n",
    "\n",
    "\n"
   ]
  },
  {
   "cell_type": "code",
   "execution_count": 14,
   "metadata": {},
   "outputs": [],
   "source": [
    "# Build graph\n",
    "NUM_HIDDEN_NEURONS_LAYER_1 = 100\n",
    "LEARNING_RATE = 0.05\n",
    "\n",
    "# Initializing the weights to Normal Distribution\n",
    "#def init_weights(shape):\n",
    " #   return tf.Variable(tf.random_normal(shape,stddev=0.01))\n",
    "\n",
    "\n",
    "graph_dropout_exp = tf.Graph()\n",
    "with graph_dropout_exp.as_default():\n",
    "    '''tf_train_dataset = tf.placeholder(tf.float32,shape = X_train.shape)\n",
    "    tf_train_labels = tf.placeholder(tf.float32,shape = train_labels.shape)\n",
    "    '''\n",
    "    inputTensor  = tf.placeholder(tf.float32, [None, 10])\n",
    "    outputTensor = tf.placeholder(tf.float32, [None, 4])\n",
    "    #tf_validation_dataset = tf.constant(X_cv,dtype=tf.float32)\n",
    "    #tf_validation_labels = tf.constant(cv_labels,dtype=tf.float32)\n",
    "    dropout = tf.placeholder(tf.float32)\n",
    "    \n",
    "    hidden_layer1_weights = tf.Variable(tf.random_normal([10,NUM_HIDDEN_NEURONS_LAYER_1],stddev=0.01))\n",
    "    hidden_layer1_biases = tf.Variable(tf.zeros(NUM_HIDDEN_NEURONS_LAYER_1))\n",
    "    \n",
    "    output_layer_weights = tf.Variable(tf.random_normal([NUM_HIDDEN_NEURONS_LAYER_1,4],stddev=0.01))\n",
    "    output_layer_biases = tf.Variable(tf.zeros(4))\n",
    "    \n",
    "    hidden_layer1_values = tf.nn.relu(tf.matmul(inputTensor,hidden_layer1_weights)+hidden_layer1_biases)\n",
    "    drop1 = tf.nn.dropout(hidden_layer1_values,0.5)\n",
    "    logits = tf.matmul(hidden_layer1_values,output_layer_weights)+output_layer_biases\n",
    "    \n",
    "    loss = tf.reduce_mean(tf.nn.softmax_cross_entropy_with_logits_v2(logits=logits,labels=outputTensor))\n",
    "    training = tf.train.GradientDescentOptimizer(LEARNING_RATE).minimize(loss)\n",
    "    \n",
    "    prediction = tf.argmax(tf.nn.softmax(logits),1)\n",
    "\n",
    "\n",
    "\n"
   ]
  },
  {
   "cell_type": "markdown",
   "metadata": {},
   "source": [
    "### Running the graphs in a Session\n"
   ]
  },
  {
   "cell_type": "code",
   "execution_count": 15,
   "metadata": {},
   "outputs": [],
   "source": [
    "# Refered from stack overflow. This function is the float version of python's range() which operates on integers only\n",
    "def frange(x, y, jump):\n",
    "  while x < y:\n",
    "    yield x\n",
    "    x += jump"
   ]
  },
  {
   "cell_type": "code",
   "execution_count": 17,
   "metadata": {},
   "outputs": [
    {
     "data": {
      "application/vnd.jupyter.widget-view+json": {
       "model_id": "6bfd080cb2fa43d1a55882db4b16b20b",
       "version_major": 2,
       "version_minor": 0
      },
      "text/plain": [
       "HBox(children=(IntProgress(value=0, max=5000), HTML(value='')))"
      ]
     },
     "metadata": {},
     "output_type": "display_data"
    },
    {
     "name": "stdout",
     "output_type": "stream",
     "text": [
      "\n"
     ]
    },
    {
     "data": {
      "application/vnd.jupyter.widget-view+json": {
       "model_id": "12f3d5abfebb4b87971c8d4f7bd6d7d9",
       "version_major": 2,
       "version_minor": 0
      },
      "text/plain": [
       "HBox(children=(IntProgress(value=0, max=5000), HTML(value='')))"
      ]
     },
     "metadata": {},
     "output_type": "display_data"
    },
    {
     "name": "stdout",
     "output_type": "stream",
     "text": [
      "\n"
     ]
    },
    {
     "data": {
      "application/vnd.jupyter.widget-view+json": {
       "model_id": "a334b5f08f524b5ead38169d384f6b19",
       "version_major": 2,
       "version_minor": 0
      },
      "text/plain": [
       "HBox(children=(IntProgress(value=0, max=5000), HTML(value='')))"
      ]
     },
     "metadata": {},
     "output_type": "display_data"
    },
    {
     "name": "stdout",
     "output_type": "stream",
     "text": [
      "\n"
     ]
    },
    {
     "data": {
      "application/vnd.jupyter.widget-view+json": {
       "model_id": "18bc0f65149546d89f9f60b02d319a92",
       "version_major": 2,
       "version_minor": 0
      },
      "text/plain": [
       "HBox(children=(IntProgress(value=0, max=5000), HTML(value='')))"
      ]
     },
     "metadata": {},
     "output_type": "display_data"
    },
    {
     "name": "stdout",
     "output_type": "stream",
     "text": [
      "\n"
     ]
    },
    {
     "data": {
      "application/vnd.jupyter.widget-view+json": {
       "model_id": "f15d01d82e914a78a58ba70112dd6c39",
       "version_major": 2,
       "version_minor": 0
      },
      "text/plain": [
       "HBox(children=(IntProgress(value=0, max=5000), HTML(value='')))"
      ]
     },
     "metadata": {},
     "output_type": "display_data"
    },
    {
     "name": "stdout",
     "output_type": "stream",
     "text": [
      "\n"
     ]
    },
    {
     "data": {
      "application/vnd.jupyter.widget-view+json": {
       "model_id": "8e226e0eb2c0419c90af6fb21c70ece6",
       "version_major": 2,
       "version_minor": 0
      },
      "text/plain": [
       "HBox(children=(IntProgress(value=0, max=5000), HTML(value='')))"
      ]
     },
     "metadata": {},
     "output_type": "display_data"
    },
    {
     "name": "stdout",
     "output_type": "stream",
     "text": [
      "\n"
     ]
    },
    {
     "data": {
      "application/vnd.jupyter.widget-view+json": {
       "model_id": "c4e55f7951d14e35b303e2acce61a41e",
       "version_major": 2,
       "version_minor": 0
      },
      "text/plain": [
       "HBox(children=(IntProgress(value=0, max=5000), HTML(value='')))"
      ]
     },
     "metadata": {},
     "output_type": "display_data"
    },
    {
     "name": "stdout",
     "output_type": "stream",
     "text": [
      "\n"
     ]
    },
    {
     "data": {
      "application/vnd.jupyter.widget-view+json": {
       "model_id": "9c8b1a9834b74526af25d374cefe88eb",
       "version_major": 2,
       "version_minor": 0
      },
      "text/plain": [
       "HBox(children=(IntProgress(value=0, max=5000), HTML(value='')))"
      ]
     },
     "metadata": {},
     "output_type": "display_data"
    },
    {
     "name": "stdout",
     "output_type": "stream",
     "text": [
      "\n"
     ]
    },
    {
     "data": {
      "application/vnd.jupyter.widget-view+json": {
       "model_id": "9866c01268624ccdaaa11ba3bbbcc188",
       "version_major": 2,
       "version_minor": 0
      },
      "text/plain": [
       "HBox(children=(IntProgress(value=0, max=5000), HTML(value='')))"
      ]
     },
     "metadata": {},
     "output_type": "display_data"
    },
    {
     "name": "stdout",
     "output_type": "stream",
     "text": [
      "\n"
     ]
    },
    {
     "data": {
      "application/vnd.jupyter.widget-view+json": {
       "model_id": "d13ea6757d6e41e69aa7cdc3bc09e705",
       "version_major": 2,
       "version_minor": 0
      },
      "text/plain": [
       "HBox(children=(IntProgress(value=0, max=5000), HTML(value='')))"
      ]
     },
     "metadata": {},
     "output_type": "display_data"
    },
    {
     "name": "stdout",
     "output_type": "stream",
     "text": [
      "\n"
     ]
    }
   ],
   "source": [
    "NUM_OF_EPOCHS = 5000\n",
    "BATCH_SIZE = 128\n",
    "\n",
    "training_accuracy = []\n",
    "loss_list = []\n",
    "with tf.Session(graph=graph_dropout_exp) as sess:\n",
    "    for d in frange(0.1,1,0.1):\n",
    "        # Set Global Variables ?\n",
    "        tf.global_variables_initializer().run()\n",
    "\n",
    "        for epoch in tqdm_notebook(range(NUM_OF_EPOCHS)):\n",
    "\n",
    "            #Shuffle the Training Dataset at each epoch\n",
    "            p = np.random.permutation(range(len(processedTrainingData)))\n",
    "            processedTrainingData  = processedTrainingData[p]\n",
    "            processedTrainingLabel = processedTrainingLabel[p]\n",
    "\n",
    "            # Start batch training\n",
    "            for start in range(0, len(processedTrainingData), BATCH_SIZE):\n",
    "                end = start + BATCH_SIZE\n",
    "                sess.run(training, feed_dict={inputTensor: processedTrainingData[start:end], \n",
    "                                              outputTensor: processedTrainingLabel[start:end],\n",
    "                                              dropout: d})\n",
    "        # Training accuracy for a dropout value in range 0 to 1\n",
    "        training_accuracy.append(np.mean(np.argmax(processedTrainingLabel, axis=1) ==\n",
    "                                     sess.run(prediction, feed_dict={inputTensor: processedTrainingData,\n",
    "                                                                     outputTensor: processedTrainingLabel})))\n",
    "        loss_list.append(sess.run(loss, feed_dict={inputTensor: processedTrainingData,\n",
    "                                                                     outputTensor: processedTrainingLabel}))   \n",
    "    #Testing\n",
    "    predictedTestLabel = sess.run(prediction, feed_dict={inputTensor: processedTestingData})"
   ]
  },
  {
   "cell_type": "code",
   "execution_count": 18,
   "metadata": {},
   "outputs": [
    {
     "data": {
      "text/plain": [
       "[0.05522536,\n",
       " 0.080423586,\n",
       " 0.0670136,\n",
       " 0.034748398,\n",
       " 0.034117058,\n",
       " 0.076109365,\n",
       " 0.05384765,\n",
       " 0.037538256,\n",
       " 0.057556007,\n",
       " 0.042204]"
      ]
     },
     "execution_count": 18,
     "metadata": {},
     "output_type": "execute_result"
    }
   ],
   "source": [
    "loss_list"
   ]
  },
  {
   "cell_type": "code",
   "execution_count": 19,
   "metadata": {},
   "outputs": [
    {
     "data": {
      "text/plain": [
       "[0.9877777777777778,\n",
       " 0.9822222222222222,\n",
       " 0.98,\n",
       " 0.9955555555555555,\n",
       " 0.9977777777777778,\n",
       " 0.9866666666666667,\n",
       " 0.9944444444444445,\n",
       " 0.9977777777777778,\n",
       " 0.9855555555555555,\n",
       " 0.9944444444444445]"
      ]
     },
     "execution_count": 19,
     "metadata": {},
     "output_type": "execute_result"
    }
   ],
   "source": [
    "training_accuracy"
   ]
  },
  {
   "cell_type": "markdown",
   "metadata": {},
   "source": [
    "### Plotting loss function against dropout values from 0.1 to 1"
   ]
  },
  {
   "cell_type": "code",
   "execution_count": 20,
   "metadata": {},
   "outputs": [
    {
     "data": {
      "text/plain": [
       "[<matplotlib.lines.Line2D at 0x1a22d3ab38>]"
      ]
     },
     "execution_count": 20,
     "metadata": {},
     "output_type": "execute_result"
    },
    {
     "data": {
      "image/png": "[encoded data removed]",
      "text/plain": [
       "<Figure size 432x288 with 1 Axes>"
      ]
     },
     "metadata": {},
     "output_type": "display_data"
    }
   ],
   "source": [
    "plt.xlabel('Dropout')\n",
    "plt.ylabel('Loss Value')\n",
    "plt.plot(list(frange(0.1,1,0.1)),loss_list)"
   ]
  },
  {
   "cell_type": "code",
   "execution_count": 12,
   "metadata": {},
   "outputs": [
    {
     "data": {
      "application/vnd.jupyter.widget-view+json": {
       "model_id": "689c70002c8f4a04ac0db529c5ae28c1",
       "version_major": 2,
       "version_minor": 0
      },
      "text/plain": [
       "HBox(children=(IntProgress(value=0, max=5000), HTML(value='')))"
      ]
     },
     "metadata": {},
     "output_type": "display_data"
    },
    {
     "name": "stdout",
     "output_type": "stream",
     "text": [
      "\n"
     ]
    }
   ],
   "source": [
    "NUM_OF_EPOCHS = 5000\n",
    "BATCH_SIZE = 128\n",
    "\n",
    "training_accuracy = []\n",
    "loss_list = []\n",
    "with tf.Session(graph=graph2) as sess:\n",
    "    \n",
    "    # Set Global Variables ?\n",
    "    ''' \n",
    "        All the variables that we define in a graph get stored in the global scope of that graph. So when we initialize\n",
    "        the global variables, all the variables get initiliazed to the values specied during their declaration in graph.\n",
    "        This initializes the values of our weights and biases.\n",
    "    '''\n",
    "    tf.global_variables_initializer().run()\n",
    "    # We run training for the epoch number of times so that we can update the weights enough times to get the most optimum model.  \n",
    "    for epoch in tqdm_notebook(range(NUM_OF_EPOCHS)):\n",
    "\n",
    "        #Shuffle the Training Dataset at each epoch\n",
    "        p = np.random.permutation(range(len(processedTrainingData)))\n",
    "        processedTrainingData  = processedTrainingData[p]\n",
    "        processedTrainingLabel = processedTrainingLabel[p]\n",
    "\n",
    "        # Start batch training. The weights will be updated only after the model process the entire batch of data.\n",
    "        for start in range(0, len(processedTrainingData), BATCH_SIZE):\n",
    "            end = start + BATCH_SIZE\n",
    "            sess.run(training, feed_dict={inputTensor: processedTrainingData[start:end], \n",
    "                                          outputTensor: processedTrainingLabel[start:end]})\n",
    "        # Training accuracy gets appended to the list after each epoch iteration.\n",
    "        training_accuracy.append(np.mean(np.argmax(processedTrainingLabel, axis=1) ==\n",
    "                                     sess.run(prediction, feed_dict={inputTensor: processedTrainingData,\n",
    "                                                                     outputTensor: processedTrainingLabel})))\n",
    "    # Testing our model on test data:\n",
    "    predictedTestLabel = sess.run(prediction, feed_dict={inputTensor: processedTestingData})\n",
    "    "
   ]
  },
  {
   "cell_type": "code",
   "execution_count": 43,
   "metadata": {
    "scrolled": true
   },
   "outputs": [
    {
     "data": {
      "text/plain": [
       "<matplotlib.axes._subplots.AxesSubplot at 0x1a2ec51cc0>"
      ]
     },
     "execution_count": 43,
     "metadata": {},
     "output_type": "execute_result"
    },
    {
     "data": {
      "image/png": "[encoded data removed]",
      "text/plain": [
       "<Figure size 432x288 with 1 Axes>"
      ]
     },
     "metadata": {},
     "output_type": "display_data"
    }
   ],
   "source": [
    "df = pd.DataFrame()\n",
    "df['acc'] = training_accuracy\n",
    "df.plot(grid=True)"
   ]
  },
  {
   "cell_type": "code",
   "execution_count": 44,
   "metadata": {},
   "outputs": [],
   "source": [
    "#This function decodes the labels back to their categorical values as required for the final output format.\n",
    "def decodeLabel(encodedLabel):\n",
    "    if encodedLabel == 0:\n",
    "        return \"Other\"\n",
    "    elif encodedLabel == 1:\n",
    "        return \"Fizz\"\n",
    "    elif encodedLabel == 2:\n",
    "        return \"Buzz\"\n",
    "    elif encodedLabel == 3:\n",
    "        return \"FizzBuzz\""
   ]
  },
  {
   "cell_type": "code",
   "execution_count": 45,
   "metadata": {},
   "outputs": [
    {
     "name": "stdout",
     "output_type": "stream",
     "text": [
      "Errors: 0  Correct :100\n",
      "Testing Accuracy: 100.0\n"
     ]
    }
   ],
   "source": [
    "wrong   = 0\n",
    "right   = 0\n",
    "\n",
    "predictedTestLabelList = []\n",
    "\n",
    "for i,j in zip(processedTestingLabel,predictedTestLabel):\n",
    "    predictedTestLabelList.append(decodeLabel(j))\n",
    "    \n",
    "    if np.argmax(i) == j:\n",
    "        right = right + 1\n",
    "    else:\n",
    "        wrong = wrong + 1\n",
    "\n",
    "print(\"Errors: \" + str(wrong), \" Correct :\" + str(right))\n",
    "\n",
    "print(\"Testing Accuracy: \" + str(right/(right+wrong)*100))\n",
    "\n",
    "testDataInput = testingData['input'].tolist()\n",
    "testDataLabel = testingData['label'].tolist()\n",
    "\n",
    "testDataInput.insert(0, \"UBID\")\n",
    "testDataLabel.insert(0, \"agundroo\")\n",
    "\n",
    "testDataInput.insert(1, \"personNumber\")\n",
    "testDataLabel.insert(1, \"50289721\")\n",
    "\n",
    "predictedTestLabelList.insert(0, \"\")\n",
    "predictedTestLabelList.insert(1, \"\")\n",
    "\n",
    "output = {}\n",
    "output[\"input\"] = testDataInput\n",
    "output[\"label\"] = testDataLabel\n",
    "\n",
    "output[\"predicted_label\"] = predictedTestLabelList\n",
    "\n",
    "opdf = pd.DataFrame(output)\n",
    "opdf.to_csv('output.csv')"
   ]
  },
  {
   "cell_type": "code",
   "execution_count": 47,
   "metadata": {},
   "outputs": [
    {
     "data": {
      "text/plain": [
       "<matplotlib.colorbar.Colorbar at 0x1a2eddfac8>"
      ]
     },
     "execution_count": 47,
     "metadata": {},
     "output_type": "execute_result"
    },
    {
     "data": {
      "image/png": "[encoded data removed]",
      "text/plain": [
       "<Figure size 432x288 with 2 Axes>"
      ]
     },
     "metadata": {},
     "output_type": "display_data"
    }
   ],
   "source": [
    "# This block plots the confusion matrix for the test data using our model.\n",
    "class_names = ['fizz','buzz','fizzbuzz','others']\n",
    "cnf_matrix = confusion_matrix(testDataLabel[2:], predictedTestLabelList[2:])\n",
    "plt.imshow(cnf_matrix, interpolation='nearest',cmap=plt.cm.Blues)\n",
    "tick_marks = np.arange(4)\n",
    "plt.xticks(tick_marks, class_names, rotation=45)\n",
    "plt.yticks(tick_marks, class_names)\n",
    "plt.colorbar()\n"
   ]
  },
  {
   "cell_type": "code",
   "execution_count": null,
   "metadata": {},
   "outputs": [],
   "source": []
  }
 ],
 "metadata": {
  "kernelspec": {
   "display_name": "Python 3",
   "language": "python",
   "name": "python3"
  },
  "language_info": {
   "codemirror_mode": {
    "name": "ipython",
    "version": 3
   },
   "file_extension": ".py",
   "mimetype": "text/x-python",
   "name": "python",
   "nbconvert_exporter": "python",
   "pygments_lexer": "ipython3",
   "version": "3.6.5"
  }
 },
 "nbformat": 4,
 "nbformat_minor": 2
}
